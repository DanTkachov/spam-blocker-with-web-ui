{
 "cells": [
  {
   "cell_type": "code",
   "id": "initial_id",
   "metadata": {
    "collapsed": true,
    "ExecuteTime": {
     "end_time": "2024-05-28T19:29:24.195823Z",
     "start_time": "2024-05-28T19:29:23.650041Z"
    }
   },
   "source": [
    "import pandas as pd\n",
    "import numpy as np\n",
    "from  sklearn.model_selection import train_test_split\n",
    "from sklearn.feature_extraction.text import TfidfVectorizer"
   ],
   "execution_count": 1,
   "outputs": []
  },
  {
   "metadata": {
    "ExecuteTime": {
     "end_time": "2024-05-28T19:29:24.198217Z",
     "start_time": "2024-05-28T19:29:24.196604Z"
    }
   },
   "cell_type": "code",
   "source": "print(\"Hello World\")",
   "id": "8ea09a2d0189d47e",
   "execution_count": 2,
   "outputs": []
  },
  {
   "metadata": {
    "ExecuteTime": {
     "end_time": "2024-05-28T19:29:24.217173Z",
     "start_time": "2024-05-28T19:29:24.198750Z"
    }
   },
   "cell_type": "code",
   "source": [
    "# Read in the input data\n",
    "# Data gathered from this link: https://www.kaggle.com/datasets/uciml/sms-spam-collection-dataset/data\n",
    "\n",
    "df = pd.read_csv('data/spam.csv', encoding='latin1')\n",
    "df.head()"
   ],
   "id": "18b9c8809379c9c7",
   "execution_count": 3,
   "outputs": []
  },
  {
   "metadata": {
    "ExecuteTime": {
     "end_time": "2024-05-28T19:29:24.220542Z",
     "start_time": "2024-05-28T19:29:24.217546Z"
    }
   },
   "cell_type": "code",
   "source": [
    "# Get rid of columns without any data in them\n",
    "bad_columns = ['Unnamed: 2', 'Unnamed: 3', 'Unnamed: 4']\n",
    "df.drop(bad_columns, axis=1, inplace=True)\n",
    "df.columns = ['Category', 'Message']\n",
    "\n",
    "# Check for missing values\n",
    "df.isna().sum()"
   ],
   "id": "164138994fb40b7e",
   "execution_count": 4,
   "outputs": []
  },
  {
   "metadata": {
    "ExecuteTime": {
     "end_time": "2024-05-28T19:29:24.230731Z",
     "start_time": "2024-05-28T19:29:24.221337Z"
    }
   },
   "cell_type": "code",
   "source": [
    "# Drop duplicated rows\n",
    "df = df.drop_duplicates(keep='first')\n",
    "df.duplicated().sum()"
   ],
   "id": "e665a88068e97cc5",
   "execution_count": 5,
   "outputs": []
  },
  {
   "metadata": {
    "ExecuteTime": {
     "end_time": "2024-05-28T19:29:24.240229Z",
     "start_time": "2024-05-28T19:29:24.231188Z"
    }
   },
   "cell_type": "code",
   "source": [
    "# Get the number of each category\n",
    "num_spam = df[df['Category'] == 'spam'].shape[0]\n",
    "num_non_spam = df[df['Category'] == 'ham'].shape[0]\n",
    "print(\"Spam emails: \", num_spam, f\" Percent of total: {100 * num_spam / (num_spam + num_non_spam):.1f}%\")\n",
    "print(\"Non-spam emails: \", num_non_spam, f\" Percent of total: {100 * num_non_spam / (num_spam + num_non_spam):.1f}%\")"
   ],
   "id": "b02c53c74955293d",
   "execution_count": 6,
   "outputs": []
  },
  {
   "metadata": {
    "ExecuteTime": {
     "end_time": "2024-05-28T19:29:24.249824Z",
     "start_time": "2024-05-28T19:29:24.240779Z"
    }
   },
   "cell_type": "code",
   "source": [
    "# Convert the category column to a column of 1's denoting spam, 0's denoting not spam.\n",
    "\n",
    "mapping = {'ham': 0, 'spam': 1}\n",
    "df['spam'] = df['Category'].map(mapping)\n",
    "df = df.drop('Category', axis=1)\n",
    "df.head()"
   ],
   "id": "e0793ab13af52073",
   "execution_count": 7,
   "outputs": []
  },
  {
   "metadata": {
    "ExecuteTime": {
     "end_time": "2024-05-28T19:29:24.265605Z",
     "start_time": "2024-05-28T19:29:24.250323Z"
    }
   },
   "cell_type": "code",
   "source": [
    "# Split the data into a training set and test set\n",
    "x_train, x_test, y_train, y_test = train_test_split(df['Message'], df['spam'], test_size=0.2)"
   ],
   "id": "3b08de276e2975c3",
   "execution_count": 8,
   "outputs": []
  },
  {
   "metadata": {
    "ExecuteTime": {
     "end_time": "2024-05-28T19:29:24.360991Z",
     "start_time": "2024-05-28T19:29:24.265996Z"
    }
   },
   "cell_type": "code",
   "source": [
    "# Feature extraction\n",
    "vectorizer = TfidfVectorizer()\n",
    "x_train_tfidf = vectorizer.fit_transform(x_train)\n",
    "x_test_tfidf = vectorizer.transform(x_test)\n",
    "\n",
    "x_train_dense = x_train_tfidf.toarray()\n",
    "x_test_dense = x_test_tfidf.toarray()"
   ],
   "id": "e8744d8db3510924",
   "execution_count": 9,
   "outputs": []
  },
  {
   "metadata": {
    "jupyter": {
     "is_executing": true
    },
    "ExecuteTime": {
     "start_time": "2024-05-28T19:29:24.361425Z"
    }
   },
   "cell_type": "code",
   "source": [
    "# Build the model\n",
    "import tensorflow as tf\n",
    "import keras\n",
    "from keras import layers\n",
    "from tensorflow.keras.layers import Dense, Dropout\n",
    "from tensorflow.keras.regularizers import l1_l2\n",
    "\n",
    "# Using a simpler, statically trained model is fine here. The classification does not have any internal state so using more complex architectures like RNN's is not necessary.\n",
    "\n",
    "model = keras.Sequential()\n",
    "# model.add(Dense(64, activation='relu', kernel_regularizer=l1_l2(l1=0.03, l2=0.00)))\n",
    "# model.add(Dropout(0.5))\n",
    "model.add(Dense(64, activation='relu'))\n",
    "model.add(Dropout(0.5))\n",
    "model.add(Dense(1, activation='sigmoid'))\n",
    "\n",
    "model.compile(optimizer='adam', loss='binary_crossentropy', metrics=['accuracy'])\n",
    "\n",
    "model.fit(x_train_dense, y_train, epochs=20, batch_size=1, validation_split=0.2)"
   ],
   "id": "16159c10fa47b67d",
   "execution_count": null,
   "outputs": []
  },
  {
   "metadata": {
    "jupyter": {
     "is_executing": true
    }
   },
   "cell_type": "code",
   "source": [
    "from sklearn.metrics import accuracy_score, precision_score, recall_score, f1_score\n",
    "\n",
    "# Make predictions on the test data\n",
    "y_pred_probability = model.predict(x_test_dense)\n",
    "y_pred = (y_pred_probability > 0.3).astype(int)\n",
    "\n",
    "# Calculate evaluation metrics\n",
    "accuracy = accuracy_score(y_test, y_pred)\n",
    "precision = precision_score(y_test, y_pred)\n",
    "recall = recall_score(y_test, y_pred)\n",
    "f1 = f1_score(y_test, y_pred)\n",
    "\n",
    "print(\"Accuracy:\", accuracy)\n",
    "print(\"Precision:\", precision)\n",
    "print(\"Recall:\", recall)\n",
    "print(\"F1-score:\", f1)"
   ],
   "id": "4bb763106c562b5a",
   "execution_count": null,
   "outputs": []
  },
  {
   "metadata": {
    "jupyter": {
     "is_executing": true
    }
   },
   "cell_type": "code",
   "source": [
    "def classify_email(email_text):\n",
    "    email_tfidf = vectorizer.transform([email_text])\n",
    "    prediction = model.predict(email_tfidf)[0]\n",
    "    print(prediction)\n",
    "    return \"Spam\" if prediction >= 0.4 else \"Not Spam\"\n",
    "\n",
    "# Example usage\n",
    "new_email = \"Get rich quick! Text GP to this number for more information\"\n",
    "result = classify_email(new_email)\n",
    "print(\"Email classification:\", result)"
   ],
   "id": "6efdcd90c1e9633c",
   "execution_count": null,
   "outputs": []
  },
  {
   "metadata": {
    "jupyter": {
     "is_executing": true
    }
   },
   "cell_type": "code",
   "source": " ",
   "id": "9e9dfcfc78ed731c",
   "execution_count": null,
   "outputs": []
  }
 ],
 "metadata": {
  "kernelspec": {
   "display_name": "Python 3",
   "language": "python",
   "name": "python3"
  },
  "language_info": {
   "codemirror_mode": {
    "name": "ipython",
    "version": 2
   },
   "file_extension": ".py",
   "mimetype": "text/x-python",
   "name": "python",
   "nbconvert_exporter": "python",
   "pygments_lexer": "ipython2",
   "version": "2.7.6"
  }
 },
 "nbformat": 4,
 "nbformat_minor": 5
}
