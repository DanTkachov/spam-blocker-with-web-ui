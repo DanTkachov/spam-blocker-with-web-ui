{
 "cells": [
  {
   "cell_type": "code",
   "id": "initial_id",
   "metadata": {
    "collapsed": true,
    "ExecuteTime": {
     "end_time": "2024-05-11T22:22:24.325859Z",
     "start_time": "2024-05-11T22:22:24.324105Z"
    }
   },
   "source": [
    "import pandas as pd\n",
    "import numpy as np\n",
    "from  sklearn.model_selection import train_test_split\n",
    "from sklearn.feature_extraction.text import TfidfVectorizer"
   ],
   "outputs": [],
   "execution_count": 116
  },
  {
   "metadata": {
    "ExecuteTime": {
     "end_time": "2024-05-11T22:22:24.343646Z",
     "start_time": "2024-05-11T22:22:24.337537Z"
    }
   },
   "cell_type": "code",
   "source": "print(\"Hello World\")",
   "id": "8ea09a2d0189d47e",
   "outputs": [
    {
     "name": "stdout",
     "output_type": "stream",
     "text": [
      "Hello World\n"
     ]
    }
   ],
   "execution_count": 117
  },
  {
   "metadata": {
    "ExecuteTime": {
     "end_time": "2024-05-11T22:22:24.360475Z",
     "start_time": "2024-05-11T22:22:24.344353Z"
    }
   },
   "cell_type": "code",
   "source": [
    "# Read in the input data\n",
    "# Data gathered from this link: https://www.kaggle.com/datasets/uciml/sms-spam-collection-dataset/data\n",
    "\n",
    "df = pd.read_csv('data/spam.csv', encoding='latin1')\n",
    "df.head()"
   ],
   "id": "18b9c8809379c9c7",
   "outputs": [
    {
     "data": {
      "text/plain": [
       "     v1                                                 v2 Unnamed: 2  \\\n",
       "0   ham  Go until jurong point, crazy.. Available only ...        NaN   \n",
       "1   ham                      Ok lar... Joking wif u oni...        NaN   \n",
       "2  spam  Free entry in 2 a wkly comp to win FA Cup fina...        NaN   \n",
       "3   ham  U dun say so early hor... U c already then say...        NaN   \n",
       "4   ham  Nah I don't think he goes to usf, he lives aro...        NaN   \n",
       "\n",
       "  Unnamed: 3 Unnamed: 4  \n",
       "0        NaN        NaN  \n",
       "1        NaN        NaN  \n",
       "2        NaN        NaN  \n",
       "3        NaN        NaN  \n",
       "4        NaN        NaN  "
      ],
      "text/html": [
       "<div>\n",
       "<style scoped>\n",
       "    .dataframe tbody tr th:only-of-type {\n",
       "        vertical-align: middle;\n",
       "    }\n",
       "\n",
       "    .dataframe tbody tr th {\n",
       "        vertical-align: top;\n",
       "    }\n",
       "\n",
       "    .dataframe thead th {\n",
       "        text-align: right;\n",
       "    }\n",
       "</style>\n",
       "<table border=\"1\" class=\"dataframe\">\n",
       "  <thead>\n",
       "    <tr style=\"text-align: right;\">\n",
       "      <th></th>\n",
       "      <th>v1</th>\n",
       "      <th>v2</th>\n",
       "      <th>Unnamed: 2</th>\n",
       "      <th>Unnamed: 3</th>\n",
       "      <th>Unnamed: 4</th>\n",
       "    </tr>\n",
       "  </thead>\n",
       "  <tbody>\n",
       "    <tr>\n",
       "      <th>0</th>\n",
       "      <td>ham</td>\n",
       "      <td>Go until jurong point, crazy.. Available only ...</td>\n",
       "      <td>NaN</td>\n",
       "      <td>NaN</td>\n",
       "      <td>NaN</td>\n",
       "    </tr>\n",
       "    <tr>\n",
       "      <th>1</th>\n",
       "      <td>ham</td>\n",
       "      <td>Ok lar... Joking wif u oni...</td>\n",
       "      <td>NaN</td>\n",
       "      <td>NaN</td>\n",
       "      <td>NaN</td>\n",
       "    </tr>\n",
       "    <tr>\n",
       "      <th>2</th>\n",
       "      <td>spam</td>\n",
       "      <td>Free entry in 2 a wkly comp to win FA Cup fina...</td>\n",
       "      <td>NaN</td>\n",
       "      <td>NaN</td>\n",
       "      <td>NaN</td>\n",
       "    </tr>\n",
       "    <tr>\n",
       "      <th>3</th>\n",
       "      <td>ham</td>\n",
       "      <td>U dun say so early hor... U c already then say...</td>\n",
       "      <td>NaN</td>\n",
       "      <td>NaN</td>\n",
       "      <td>NaN</td>\n",
       "    </tr>\n",
       "    <tr>\n",
       "      <th>4</th>\n",
       "      <td>ham</td>\n",
       "      <td>Nah I don't think he goes to usf, he lives aro...</td>\n",
       "      <td>NaN</td>\n",
       "      <td>NaN</td>\n",
       "      <td>NaN</td>\n",
       "    </tr>\n",
       "  </tbody>\n",
       "</table>\n",
       "</div>"
      ]
     },
     "execution_count": 118,
     "metadata": {},
     "output_type": "execute_result"
    }
   ],
   "execution_count": 118
  },
  {
   "metadata": {
    "ExecuteTime": {
     "end_time": "2024-05-11T22:22:24.363905Z",
     "start_time": "2024-05-11T22:22:24.361124Z"
    }
   },
   "cell_type": "code",
   "source": [
    "# Get rid of columns without any data in them\n",
    "bad_columns = ['Unnamed: 2', 'Unnamed: 3', 'Unnamed: 4']\n",
    "df.drop(bad_columns, axis=1, inplace=True)\n",
    "df.columns = ['Category', 'Message']\n",
    "\n",
    "# Check for missing values\n",
    "df.isna().sum()"
   ],
   "id": "164138994fb40b7e",
   "outputs": [
    {
     "data": {
      "text/plain": [
       "Category    0\n",
       "Message     0\n",
       "dtype: int64"
      ]
     },
     "execution_count": 119,
     "metadata": {},
     "output_type": "execute_result"
    }
   ],
   "execution_count": 119
  },
  {
   "metadata": {
    "ExecuteTime": {
     "end_time": "2024-05-11T22:22:24.375489Z",
     "start_time": "2024-05-11T22:22:24.364632Z"
    }
   },
   "cell_type": "code",
   "source": [
    "# Drop duplicated rows\n",
    "df = df.drop_duplicates(keep='first')\n",
    "df.duplicated().sum()"
   ],
   "id": "e665a88068e97cc5",
   "outputs": [
    {
     "data": {
      "text/plain": [
       "0"
      ]
     },
     "execution_count": 120,
     "metadata": {},
     "output_type": "execute_result"
    }
   ],
   "execution_count": 120
  },
  {
   "metadata": {
    "ExecuteTime": {
     "end_time": "2024-05-11T22:22:24.381702Z",
     "start_time": "2024-05-11T22:22:24.375942Z"
    }
   },
   "cell_type": "code",
   "source": [
    "# Get the number of each category\n",
    "num_spam = df[df['Category'] == 'spam'].shape[0]\n",
    "num_non_spam = df[df['Category'] == 'ham'].shape[0]\n",
    "print(\"Spam emails: \", num_spam, f\" Percent of total: {100 * num_spam / (num_spam + num_non_spam):.1f}%\")\n",
    "print(\"Non-spam emails: \", num_non_spam, f\" Percent of total: {100 * num_non_spam / (num_spam + num_non_spam):.1f}%\")"
   ],
   "id": "b02c53c74955293d",
   "outputs": [
    {
     "name": "stdout",
     "output_type": "stream",
     "text": [
      "Spam emails:  653  Percent of total: 12.6%\n",
      "Non-spam emails:  4516  Percent of total: 87.4%\n"
     ]
    }
   ],
   "execution_count": 121
  },
  {
   "metadata": {
    "ExecuteTime": {
     "end_time": "2024-05-11T22:22:24.396999Z",
     "start_time": "2024-05-11T22:22:24.382213Z"
    }
   },
   "cell_type": "code",
   "source": [
    "# Convert the category column to a column of 1's denoting spam, 0's denoting not spam.\n",
    "\n",
    "mapping = {'ham': 0, 'spam': 1}\n",
    "df['spam'] = df['Category'].map(mapping)\n",
    "df = df.drop('Category', axis=1)\n",
    "df.head()"
   ],
   "id": "e0793ab13af52073",
   "outputs": [
    {
     "data": {
      "text/plain": [
       "                                             Message  spam\n",
       "0  Go until jurong point, crazy.. Available only ...     0\n",
       "1                      Ok lar... Joking wif u oni...     0\n",
       "2  Free entry in 2 a wkly comp to win FA Cup fina...     1\n",
       "3  U dun say so early hor... U c already then say...     0\n",
       "4  Nah I don't think he goes to usf, he lives aro...     0"
      ],
      "text/html": [
       "<div>\n",
       "<style scoped>\n",
       "    .dataframe tbody tr th:only-of-type {\n",
       "        vertical-align: middle;\n",
       "    }\n",
       "\n",
       "    .dataframe tbody tr th {\n",
       "        vertical-align: top;\n",
       "    }\n",
       "\n",
       "    .dataframe thead th {\n",
       "        text-align: right;\n",
       "    }\n",
       "</style>\n",
       "<table border=\"1\" class=\"dataframe\">\n",
       "  <thead>\n",
       "    <tr style=\"text-align: right;\">\n",
       "      <th></th>\n",
       "      <th>Message</th>\n",
       "      <th>spam</th>\n",
       "    </tr>\n",
       "  </thead>\n",
       "  <tbody>\n",
       "    <tr>\n",
       "      <th>0</th>\n",
       "      <td>Go until jurong point, crazy.. Available only ...</td>\n",
       "      <td>0</td>\n",
       "    </tr>\n",
       "    <tr>\n",
       "      <th>1</th>\n",
       "      <td>Ok lar... Joking wif u oni...</td>\n",
       "      <td>0</td>\n",
       "    </tr>\n",
       "    <tr>\n",
       "      <th>2</th>\n",
       "      <td>Free entry in 2 a wkly comp to win FA Cup fina...</td>\n",
       "      <td>1</td>\n",
       "    </tr>\n",
       "    <tr>\n",
       "      <th>3</th>\n",
       "      <td>U dun say so early hor... U c already then say...</td>\n",
       "      <td>0</td>\n",
       "    </tr>\n",
       "    <tr>\n",
       "      <th>4</th>\n",
       "      <td>Nah I don't think he goes to usf, he lives aro...</td>\n",
       "      <td>0</td>\n",
       "    </tr>\n",
       "  </tbody>\n",
       "</table>\n",
       "</div>"
      ]
     },
     "execution_count": 122,
     "metadata": {},
     "output_type": "execute_result"
    }
   ],
   "execution_count": 122
  },
  {
   "metadata": {
    "ExecuteTime": {
     "end_time": "2024-05-11T22:22:24.407002Z",
     "start_time": "2024-05-11T22:22:24.397442Z"
    }
   },
   "cell_type": "code",
   "source": [
    "# Split the data into a training set and test set\n",
    "x_train, x_test, y_train, y_test = train_test_split(df['Message'], df['spam'], test_size=0.2)"
   ],
   "id": "3b08de276e2975c3",
   "outputs": [],
   "execution_count": 123
  },
  {
   "metadata": {
    "ExecuteTime": {
     "end_time": "2024-05-11T22:22:24.494967Z",
     "start_time": "2024-05-11T22:22:24.407454Z"
    }
   },
   "cell_type": "code",
   "source": [
    "# Feature extraction\n",
    "vectorizer = TfidfVectorizer()\n",
    "x_train_tfidf = vectorizer.fit_transform(x_train)\n",
    "x_test_tfidf = vectorizer.transform(x_test)\n",
    "\n",
    "x_train_dense = x_train_tfidf.toarray()\n",
    "x_test_dense = x_test_tfidf.toarray()"
   ],
   "id": "e8744d8db3510924",
   "outputs": [],
   "execution_count": 124
  },
  {
   "metadata": {
    "ExecuteTime": {
     "end_time": "2024-05-11T22:23:56.434442Z",
     "start_time": "2024-05-11T22:22:24.495634Z"
    }
   },
   "cell_type": "code",
   "source": [
    "# Build the model\n",
    "import tensorflow as tf\n",
    "import keras\n",
    "from keras import layers\n",
    "from tensorflow.keras.layers import Dense, Dropout\n",
    "from tensorflow.keras.regularizers import l1_l2\n",
    "\n",
    "# Using a simpler, statically trained model is fine here. The classification does not have any internal state so using more complex architectures like RNN's is not necessary.\n",
    "\n",
    "model = keras.Sequential()\n",
    "# model.add(Dense(64, activation='relu', kernel_regularizer=l1_l2(l1=0.03, l2=0.00)))\n",
    "# model.add(Dropout(0.5))\n",
    "model.add(Dense(64, activation='relu'))\n",
    "model.add(Dropout(0.5))\n",
    "model.add(Dense(1, activation='sigmoid'))\n",
    "\n",
    "model.compile(optimizer='adam', loss='binary_crossentropy', metrics=['accuracy'])\n",
    "\n",
    "model.fit(x_train_dense, y_train, epochs=20, batch_size=1, validation_split=0.2)"
   ],
   "id": "16159c10fa47b67d",
   "outputs": [
    {
     "name": "stdout",
     "output_type": "stream",
     "text": [
      "Epoch 1/20\n",
      "\u001B[1m3308/3308\u001B[0m \u001B[32m━━━━━━━━━━━━━━━━━━━━\u001B[0m\u001B[37m\u001B[0m \u001B[1m5s\u001B[0m 1ms/step - accuracy: 0.9007 - loss: 0.3081 - val_accuracy: 0.9819 - val_loss: 0.0820\n",
      "Epoch 2/20\n",
      "\u001B[1m3308/3308\u001B[0m \u001B[32m━━━━━━━━━━━━━━━━━━━━\u001B[0m\u001B[37m\u001B[0m \u001B[1m5s\u001B[0m 1ms/step - accuracy: 0.9888 - loss: 0.0489 - val_accuracy: 0.9807 - val_loss: 0.0717\n",
      "Epoch 3/20\n",
      "\u001B[1m3308/3308\u001B[0m \u001B[32m━━━━━━━━━━━━━━━━━━━━\u001B[0m\u001B[37m\u001B[0m \u001B[1m5s\u001B[0m 1ms/step - accuracy: 0.9939 - loss: 0.0171 - val_accuracy: 0.9807 - val_loss: 0.0753\n",
      "Epoch 4/20\n",
      "\u001B[1m3308/3308\u001B[0m \u001B[32m━━━━━━━━━━━━━━━━━━━━\u001B[0m\u001B[37m\u001B[0m \u001B[1m5s\u001B[0m 1ms/step - accuracy: 0.9961 - loss: 0.0129 - val_accuracy: 0.9794 - val_loss: 0.0817\n",
      "Epoch 5/20\n",
      "\u001B[1m3308/3308\u001B[0m \u001B[32m━━━━━━━━━━━━━━━━━━━━\u001B[0m\u001B[37m\u001B[0m \u001B[1m5s\u001B[0m 1ms/step - accuracy: 0.9963 - loss: 0.0082 - val_accuracy: 0.9843 - val_loss: 0.0892\n",
      "Epoch 6/20\n",
      "\u001B[1m3308/3308\u001B[0m \u001B[32m━━━━━━━━━━━━━━━━━━━━\u001B[0m\u001B[37m\u001B[0m \u001B[1m5s\u001B[0m 1ms/step - accuracy: 0.9986 - loss: 0.0046 - val_accuracy: 0.9855 - val_loss: 0.0968\n",
      "Epoch 7/20\n",
      "\u001B[1m3308/3308\u001B[0m \u001B[32m━━━━━━━━━━━━━━━━━━━━\u001B[0m\u001B[37m\u001B[0m \u001B[1m5s\u001B[0m 1ms/step - accuracy: 0.9991 - loss: 0.0024 - val_accuracy: 0.9819 - val_loss: 0.1178\n",
      "Epoch 8/20\n",
      "\u001B[1m3308/3308\u001B[0m \u001B[32m━━━━━━━━━━━━━━━━━━━━\u001B[0m\u001B[37m\u001B[0m \u001B[1m5s\u001B[0m 1ms/step - accuracy: 0.9996 - loss: 0.0016 - val_accuracy: 0.9831 - val_loss: 0.1173\n",
      "Epoch 9/20\n",
      "\u001B[1m3308/3308\u001B[0m \u001B[32m━━━━━━━━━━━━━━━━━━━━\u001B[0m\u001B[37m\u001B[0m \u001B[1m5s\u001B[0m 1ms/step - accuracy: 0.9998 - loss: 0.0012 - val_accuracy: 0.9831 - val_loss: 0.1292\n",
      "Epoch 10/20\n",
      "\u001B[1m3308/3308\u001B[0m \u001B[32m━━━━━━━━━━━━━━━━━━━━\u001B[0m\u001B[37m\u001B[0m \u001B[1m5s\u001B[0m 1ms/step - accuracy: 0.9998 - loss: 5.6821e-04 - val_accuracy: 0.9843 - val_loss: 0.1360\n",
      "Epoch 11/20\n",
      "\u001B[1m3308/3308\u001B[0m \u001B[32m━━━━━━━━━━━━━━━━━━━━\u001B[0m\u001B[37m\u001B[0m \u001B[1m5s\u001B[0m 1ms/step - accuracy: 1.0000 - loss: 1.7385e-04 - val_accuracy: 0.9855 - val_loss: 0.1332\n",
      "Epoch 12/20\n",
      "\u001B[1m3308/3308\u001B[0m \u001B[32m━━━━━━━━━━━━━━━━━━━━\u001B[0m\u001B[37m\u001B[0m \u001B[1m5s\u001B[0m 1ms/step - accuracy: 1.0000 - loss: 3.6092e-05 - val_accuracy: 0.9843 - val_loss: 0.1511\n",
      "Epoch 13/20\n",
      "\u001B[1m3308/3308\u001B[0m \u001B[32m━━━━━━━━━━━━━━━━━━━━\u001B[0m\u001B[37m\u001B[0m \u001B[1m5s\u001B[0m 1ms/step - accuracy: 1.0000 - loss: 8.4988e-05 - val_accuracy: 0.9843 - val_loss: 0.1651\n",
      "Epoch 14/20\n",
      "\u001B[1m3308/3308\u001B[0m \u001B[32m━━━━━━━━━━━━━━━━━━━━\u001B[0m\u001B[37m\u001B[0m \u001B[1m5s\u001B[0m 1ms/step - accuracy: 1.0000 - loss: 3.5629e-05 - val_accuracy: 0.9831 - val_loss: 0.1600\n",
      "Epoch 15/20\n",
      "\u001B[1m3308/3308\u001B[0m \u001B[32m━━━━━━━━━━━━━━━━━━━━\u001B[0m\u001B[37m\u001B[0m \u001B[1m5s\u001B[0m 1ms/step - accuracy: 1.0000 - loss: 3.9081e-05 - val_accuracy: 0.9843 - val_loss: 0.1751\n",
      "Epoch 16/20\n",
      "\u001B[1m3308/3308\u001B[0m \u001B[32m━━━━━━━━━━━━━━━━━━━━\u001B[0m\u001B[37m\u001B[0m \u001B[1m5s\u001B[0m 1ms/step - accuracy: 1.0000 - loss: 1.4343e-05 - val_accuracy: 0.9855 - val_loss: 0.1776\n",
      "Epoch 17/20\n",
      "\u001B[1m3308/3308\u001B[0m \u001B[32m━━━━━━━━━━━━━━━━━━━━\u001B[0m\u001B[37m\u001B[0m \u001B[1m5s\u001B[0m 1ms/step - accuracy: 1.0000 - loss: 2.5763e-05 - val_accuracy: 0.9831 - val_loss: 0.1821\n",
      "Epoch 18/20\n",
      "\u001B[1m3308/3308\u001B[0m \u001B[32m━━━━━━━━━━━━━━━━━━━━\u001B[0m\u001B[37m\u001B[0m \u001B[1m5s\u001B[0m 1ms/step - accuracy: 1.0000 - loss: 5.7689e-06 - val_accuracy: 0.9831 - val_loss: 0.1861\n",
      "Epoch 19/20\n",
      "\u001B[1m3308/3308\u001B[0m \u001B[32m━━━━━━━━━━━━━━━━━━━━\u001B[0m\u001B[37m\u001B[0m \u001B[1m5s\u001B[0m 1ms/step - accuracy: 1.0000 - loss: 3.6974e-06 - val_accuracy: 0.9855 - val_loss: 0.2014\n",
      "Epoch 20/20\n",
      "\u001B[1m3308/3308\u001B[0m \u001B[32m━━━━━━━━━━━━━━━━━━━━\u001B[0m\u001B[37m\u001B[0m \u001B[1m5s\u001B[0m 1ms/step - accuracy: 1.0000 - loss: 1.6606e-05 - val_accuracy: 0.9855 - val_loss: 0.2079\n"
     ]
    },
    {
     "data": {
      "text/plain": [
       "<keras.src.callbacks.history.History at 0x7e8f2f037aa0>"
      ]
     },
     "execution_count": 125,
     "metadata": {},
     "output_type": "execute_result"
    }
   ],
   "execution_count": 125
  },
  {
   "metadata": {
    "ExecuteTime": {
     "end_time": "2024-05-11T22:23:56.510625Z",
     "start_time": "2024-05-11T22:23:56.435285Z"
    }
   },
   "cell_type": "code",
   "source": [
    "from sklearn.metrics import accuracy_score, precision_score, recall_score, f1_score\n",
    "\n",
    "# Make predictions on the test data\n",
    "y_pred_probability = model.predict(x_test_dense)\n",
    "y_pred = (y_pred_probability > 0.3).astype(int)\n",
    "\n",
    "# Calculate evaluation metrics\n",
    "accuracy = accuracy_score(y_test, y_pred)\n",
    "precision = precision_score(y_test, y_pred)\n",
    "recall = recall_score(y_test, y_pred)\n",
    "f1 = f1_score(y_test, y_pred)\n",
    "\n",
    "print(\"Accuracy:\", accuracy)\n",
    "print(\"Precision:\", precision)\n",
    "print(\"Recall:\", recall)\n",
    "print(\"F1-score:\", f1)"
   ],
   "id": "4bb763106c562b5a",
   "outputs": [
    {
     "name": "stdout",
     "output_type": "stream",
     "text": [
      "\u001B[1m33/33\u001B[0m \u001B[32m━━━━━━━━━━━━━━━━━━━━\u001B[0m\u001B[37m\u001B[0m \u001B[1m0s\u001B[0m 642us/step\n",
      "Accuracy: 0.9806576402321083\n",
      "Precision: 0.9523809523809523\n",
      "Recall: 0.8955223880597015\n",
      "F1-score: 0.9230769230769231\n"
     ]
    }
   ],
   "execution_count": 126
  },
  {
   "metadata": {
    "ExecuteTime": {
     "end_time": "2024-05-11T23:16:36.622917Z",
     "start_time": "2024-05-11T23:16:36.562312Z"
    }
   },
   "cell_type": "code",
   "source": [
    "def classify_email(email_text):\n",
    "    email_tfidf = vectorizer.transform([email_text])\n",
    "    prediction = model.predict(email_tfidf)[0]\n",
    "    print(prediction)\n",
    "    return \"Spam\" if prediction >= 0.4 else \"Not Spam\"\n",
    "\n",
    "# Example usage\n",
    "new_email = \"Get rich quick! Text GP to this number for more information\"\n",
    "result = classify_email(new_email)\n",
    "print(\"Email classification:\", result)"
   ],
   "id": "6efdcd90c1e9633c",
   "outputs": [
    {
     "name": "stdout",
     "output_type": "stream",
     "text": [
      "\u001B[1m1/1\u001B[0m \u001B[32m━━━━━━━━━━━━━━━━━━━━\u001B[0m\u001B[37m\u001B[0m \u001B[1m0s\u001B[0m 18ms/step\n",
      "[0.97303116]\n",
      "Email classification: Spam\n"
     ]
    }
   ],
   "execution_count": 131
  },
  {
   "metadata": {
    "ExecuteTime": {
     "end_time": "2024-05-11T22:23:56.584848Z",
     "start_time": "2024-05-11T22:23:56.583749Z"
    }
   },
   "cell_type": "code",
   "source": " ",
   "id": "9e9dfcfc78ed731c",
   "outputs": [],
   "execution_count": 127
  }
 ],
 "metadata": {
  "kernelspec": {
   "display_name": "Python 3",
   "language": "python",
   "name": "python3"
  },
  "language_info": {
   "codemirror_mode": {
    "name": "ipython",
    "version": 2
   },
   "file_extension": ".py",
   "mimetype": "text/x-python",
   "name": "python",
   "nbconvert_exporter": "python",
   "pygments_lexer": "ipython2",
   "version": "2.7.6"
  }
 },
 "nbformat": 4,
 "nbformat_minor": 5
}
